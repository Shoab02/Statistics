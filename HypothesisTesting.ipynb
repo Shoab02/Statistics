{
 "cells": [
  {
   "cell_type": "code",
   "execution_count": null,
   "id": "b550ae1d",
   "metadata": {},
   "outputs": [],
   "source": [
    "<h1> Hypothesis testing</h1>"
   ]
  },
  {
   "cell_type": "code",
   "execution_count": 4,
   "id": "ec0e028a",
   "metadata": {},
   "outputs": [],
   "source": [
    "import pandas as pd\n",
    "import matplotlib.pyplot as plt\n",
    "%matplotlib inline"
   ]
  },
  {
   "cell_type": "code",
   "execution_count": 2,
   "id": "fe71cbbe",
   "metadata": {},
   "outputs": [],
   "source": [
    "df = pd.read_csv('WineQuality-RedWine.csv')"
   ]
  },
  {
   "cell_type": "code",
   "execution_count": 3,
   "id": "d812c8f7",
   "metadata": {},
   "outputs": [
    {
     "data": {
      "text/html": [
       "<div>\n",
       "<style scoped>\n",
       "    .dataframe tbody tr th:only-of-type {\n",
       "        vertical-align: middle;\n",
       "    }\n",
       "\n",
       "    .dataframe tbody tr th {\n",
       "        vertical-align: top;\n",
       "    }\n",
       "\n",
       "    .dataframe thead th {\n",
       "        text-align: right;\n",
       "    }\n",
       "</style>\n",
       "<table border=\"1\" class=\"dataframe\">\n",
       "  <thead>\n",
       "    <tr style=\"text-align: right;\">\n",
       "      <th></th>\n",
       "      <th>fixed acidity</th>\n",
       "      <th>volatile acidity</th>\n",
       "      <th>citric acid</th>\n",
       "      <th>residual sugar</th>\n",
       "      <th>chlorides</th>\n",
       "      <th>free sulfur dioxide</th>\n",
       "      <th>total sulfur dioxide</th>\n",
       "      <th>density</th>\n",
       "      <th>pH</th>\n",
       "      <th>sulphates</th>\n",
       "      <th>alcohol</th>\n",
       "      <th>quality</th>\n",
       "    </tr>\n",
       "  </thead>\n",
       "  <tbody>\n",
       "    <tr>\n",
       "      <th>0</th>\n",
       "      <td>7.4</td>\n",
       "      <td>0.70</td>\n",
       "      <td>0.00</td>\n",
       "      <td>1.9</td>\n",
       "      <td>0.076</td>\n",
       "      <td>11.0</td>\n",
       "      <td>34.0</td>\n",
       "      <td>0.9978</td>\n",
       "      <td>3.51</td>\n",
       "      <td>0.56</td>\n",
       "      <td>9.4</td>\n",
       "      <td>5</td>\n",
       "    </tr>\n",
       "    <tr>\n",
       "      <th>1</th>\n",
       "      <td>7.8</td>\n",
       "      <td>0.88</td>\n",
       "      <td>0.00</td>\n",
       "      <td>2.6</td>\n",
       "      <td>0.098</td>\n",
       "      <td>25.0</td>\n",
       "      <td>67.0</td>\n",
       "      <td>0.9968</td>\n",
       "      <td>3.20</td>\n",
       "      <td>0.68</td>\n",
       "      <td>9.8</td>\n",
       "      <td>5</td>\n",
       "    </tr>\n",
       "    <tr>\n",
       "      <th>2</th>\n",
       "      <td>7.8</td>\n",
       "      <td>0.76</td>\n",
       "      <td>0.04</td>\n",
       "      <td>2.3</td>\n",
       "      <td>0.092</td>\n",
       "      <td>15.0</td>\n",
       "      <td>54.0</td>\n",
       "      <td>0.9970</td>\n",
       "      <td>3.26</td>\n",
       "      <td>0.65</td>\n",
       "      <td>9.8</td>\n",
       "      <td>5</td>\n",
       "    </tr>\n",
       "    <tr>\n",
       "      <th>3</th>\n",
       "      <td>11.2</td>\n",
       "      <td>0.28</td>\n",
       "      <td>0.56</td>\n",
       "      <td>1.9</td>\n",
       "      <td>0.075</td>\n",
       "      <td>17.0</td>\n",
       "      <td>60.0</td>\n",
       "      <td>0.9980</td>\n",
       "      <td>3.16</td>\n",
       "      <td>0.58</td>\n",
       "      <td>9.8</td>\n",
       "      <td>6</td>\n",
       "    </tr>\n",
       "    <tr>\n",
       "      <th>4</th>\n",
       "      <td>7.4</td>\n",
       "      <td>0.70</td>\n",
       "      <td>0.00</td>\n",
       "      <td>1.9</td>\n",
       "      <td>0.076</td>\n",
       "      <td>11.0</td>\n",
       "      <td>34.0</td>\n",
       "      <td>0.9978</td>\n",
       "      <td>3.51</td>\n",
       "      <td>0.56</td>\n",
       "      <td>9.4</td>\n",
       "      <td>5</td>\n",
       "    </tr>\n",
       "  </tbody>\n",
       "</table>\n",
       "</div>"
      ],
      "text/plain": [
       "   fixed acidity  volatile acidity  citric acid  residual sugar  chlorides  \\\n",
       "0            7.4              0.70         0.00             1.9      0.076   \n",
       "1            7.8              0.88         0.00             2.6      0.098   \n",
       "2            7.8              0.76         0.04             2.3      0.092   \n",
       "3           11.2              0.28         0.56             1.9      0.075   \n",
       "4            7.4              0.70         0.00             1.9      0.076   \n",
       "\n",
       "   free sulfur dioxide  total sulfur dioxide  density    pH  sulphates  \\\n",
       "0                 11.0                  34.0   0.9978  3.51       0.56   \n",
       "1                 25.0                  67.0   0.9968  3.20       0.68   \n",
       "2                 15.0                  54.0   0.9970  3.26       0.65   \n",
       "3                 17.0                  60.0   0.9980  3.16       0.58   \n",
       "4                 11.0                  34.0   0.9978  3.51       0.56   \n",
       "\n",
       "   alcohol  quality  \n",
       "0      9.4        5  \n",
       "1      9.8        5  \n",
       "2      9.8        5  \n",
       "3      9.8        6  \n",
       "4      9.4        5  "
      ]
     },
     "execution_count": 3,
     "metadata": {},
     "output_type": "execute_result"
    }
   ],
   "source": [
    "df.head()"
   ]
  },
  {
   "cell_type": "code",
   "execution_count": 5,
   "id": "662c50f2",
   "metadata": {},
   "outputs": [
    {
     "data": {
      "image/png": "[encoded data removed]",
      "text/plain": [
       "<Figure size 1008x432 with 1 Axes>"
      ]
     },
     "metadata": {
      "needs_background": "light"
     },
     "output_type": "display_data"
    }
   ],
   "source": [
    "plt.figure(figsize=(14,6))\n",
    "plt.hist(df['volatile acidity'])\n",
    "plt.show()"
   ]
  },
  {
   "cell_type": "markdown",
   "id": "61c57d8e",
   "metadata": {},
   "source": [
    "<h3>Normality test using Shapiro-Wilk Test to test if data is normally distributed</h3>"
   ]
  },
  {
   "cell_type": "code",
   "execution_count": 6,
   "id": "90337ec8",
   "metadata": {},
   "outputs": [
    {
     "name": "stdout",
     "output_type": "stream",
     "text": [
      "Statistic : 0.97, p-value: 0.000000000000000268638537394731 \n",
      "Not a normal distribution\n"
     ]
    }
   ],
   "source": [
    "from scipy.stats import shapiro\n",
    "\n",
    "test_data = df['volatile acidity']\n",
    "\n",
    "stat, p = shapiro(test_data)\n",
    "\n",
    "print('Statistic : %.2f, p-value: %.30f ' %(stat, p))\n",
    "\n",
    "if p > 0.05:\n",
    "    print('Normal distribution')\n",
    "else:\n",
    "    print('Not a normal distribution')"
   ]
  },
  {
   "cell_type": "markdown",
   "id": "71008fe1",
   "metadata": {},
   "source": [
    "<h3> Lets perform this test on a known normal distribution</h3>"
   ]
  },
  {
   "cell_type": "code",
   "execution_count": 16,
   "id": "af6712a4",
   "metadata": {},
   "outputs": [],
   "source": [
    "from numpy.random import randn\n",
    "n_test_data = randn(100)"
   ]
  },
  {
   "cell_type": "code",
   "execution_count": 8,
   "id": "bb2855fc",
   "metadata": {},
   "outputs": [
    {
     "data": {
      "text/plain": [
       "array([ 0.7686646 , -0.94181054,  0.92787263,  1.21298976, -0.47097107,\n",
       "       -1.05371965, -1.20631199, -1.26118346,  0.17808726, -0.21646841,\n",
       "       -0.3788408 ,  0.34653719, -0.80991273,  1.67248776,  0.49268116,\n",
       "       -0.1192487 ,  2.17459964, -0.65728467,  0.37539869,  1.15751199,\n",
       "       -0.20355335, -0.44807982,  0.84279488,  0.05805024, -1.39511312,\n",
       "       -0.48645831,  0.20429839,  1.22707837, -1.21885114,  0.4230105 ,\n",
       "        0.53086224, -0.91742252,  0.75957444, -0.70208898,  0.47429359,\n",
       "       -0.06977008, -1.10074273,  0.68683895, -0.21637772, -0.65866516,\n",
       "        0.40929711, -1.17476717, -1.36216071,  1.0039407 , -0.62097824,\n",
       "        0.69649904, -0.50219338,  0.27805997,  1.03396472,  1.78892673,\n",
       "        0.32680861, -0.68552446, -0.77818003,  0.24826882, -0.2589291 ,\n",
       "       -1.27112725,  0.07989031,  0.77453895,  2.08178932, -1.49467191,\n",
       "       -0.71299803,  0.62979878,  2.1888162 , -0.71213021,  0.44476531,\n",
       "       -3.16391854,  0.96191401,  0.98508723, -0.92995613,  0.98983619,\n",
       "        2.36610281, -0.29236616, -0.85350381,  0.61906255,  0.23503405,\n",
       "        0.64124606, -0.44428295, -0.59994329, -0.0089978 ,  0.30159562,\n",
       "        0.12119861, -0.54939155,  2.42311734,  0.38551599, -0.07144523,\n",
       "       -2.30811993, -1.40650132, -0.60430009, -0.32564684, -0.42017363,\n",
       "        0.62780881, -1.22362543,  0.31231841, -1.0731921 ,  1.49833242,\n",
       "        0.72040325, -1.61821909,  1.90918479,  2.16173498, -0.22366768])"
      ]
     },
     "execution_count": 8,
     "metadata": {},
     "output_type": "execute_result"
    }
   ],
   "source": [
    "n_test_data"
   ]
  },
  {
   "cell_type": "code",
   "execution_count": 13,
   "id": "cb194b26",
   "metadata": {},
   "outputs": [
    {
     "data": {
      "image/png": "[encoded data removed]",
      "text/plain": [
       "<Figure size 432x288 with 1 Axes>"
      ]
     },
     "metadata": {
      "needs_background": "light"
     },
     "output_type": "display_data"
    }
   ],
   "source": [
    "plt.hist(test_data)\n",
    "plt.show()"
   ]
  },
  {
   "cell_type": "code",
   "execution_count": 14,
   "id": "40008b7a",
   "metadata": {},
   "outputs": [
    {
     "name": "stdout",
     "output_type": "stream",
     "text": [
      "Statistic : 0.98, p-value: 0.262646287679672241210937500000 \n",
      "Normal distribution\n"
     ]
    }
   ],
   "source": [
    "stat, p = shapiro(n_test_data)\n",
    "\n",
    "print('Statistic : %.2f, p-value: %.30f ' %(stat, p))\n",
    "\n",
    "if p > 0.05:\n",
    "    print('Normal distribution')\n",
    "else:\n",
    "    print('Not a normal distribution')"
   ]
  },
  {
   "cell_type": "markdown",
   "id": "6fe2562b",
   "metadata": {},
   "source": [
    "<h3>D'Agostino's K^2 Normality Test</h3>"
   ]
  },
  {
   "cell_type": "code",
   "execution_count": 15,
   "id": "027fe63b",
   "metadata": {},
   "outputs": [
    {
     "name": "stdout",
     "output_type": "stream",
     "text": [
      "Statistic : 143.42, p-value: 0.000000000000000000000000000000 \n",
      "Not a normal distribution\n"
     ]
    }
   ],
   "source": [
    "from scipy.stats import normaltest\n",
    "\n",
    "test_data = df['volatile acidity']\n",
    "\n",
    "stat, p = normaltest(test_data)\n",
    "\n",
    "print('Statistic : %.2f, p-value: %.30f ' %(stat, p))\n",
    "\n",
    "if p > 0.05:\n",
    "    print('Normal distribution')\n",
    "else:\n",
    "    print('Not a normal distribution')\n",
    "    "
   ]
  },
  {
   "cell_type": "code",
   "execution_count": 17,
   "id": "84dc0d1b",
   "metadata": {},
   "outputs": [
    {
     "name": "stdout",
     "output_type": "stream",
     "text": [
      "Statistic : 0.98, p-value: 0.278449147939682006835937500000 \n",
      "Normal distribution\n"
     ]
    }
   ],
   "source": [
    "stat, p = shapiro(n_test_data)\n",
    "\n",
    "print('Statistic : %.2f, p-value: %.30f ' %(stat, p))\n",
    "\n",
    "if p > 0.05:\n",
    "    print('Normal distribution')\n",
    "else:\n",
    "    print('Not a normal distribution')"
   ]
  },
  {
   "cell_type": "markdown",
   "id": "a8d831e1",
   "metadata": {},
   "source": [
    "<h2>Correlation Test</h2>\n",
    "\n",
    "<h3>Pearson and Spearman’s Rank Correlation</h3>"
   ]
  },
  {
   "cell_type": "code",
   "execution_count": 19,
   "id": "50dd52c1",
   "metadata": {},
   "outputs": [
    {
     "data": {
      "image/png": "[encoded data removed]",
      "text/plain": [
       "<Figure size 432x288 with 1 Axes>"
      ]
     },
     "metadata": {
      "needs_background": "light"
     },
     "output_type": "display_data"
    }
   ],
   "source": [
    "FirstSample = df[1:30]['total sulfur dioxide']\n",
    "SecondSample = df[1:30]['free sulfur dioxide']\n",
    "\n",
    "plt.plot(FirstSample,SecondSample)\n",
    "plt.show()"
   ]
  },
  {
   "cell_type": "code",
   "execution_count": 21,
   "id": "dd13708d",
   "metadata": {},
   "outputs": [
    {
     "name": "stdout",
     "output_type": "stream",
     "text": [
      "Statistic : 0.81, p-value: 0.000000139489147549749254185653 \n",
      "Not a normal distribution\n"
     ]
    }
   ],
   "source": [
    "from scipy.stats import spearmanr\n",
    "stat, p = spearmanr(FirstSample, SecondSample)\n",
    "\n",
    "print('Statistic : %.2f, p-value: %.30f ' %(stat, p))\n",
    "\n",
    "if p > 0.05:\n",
    "    print('Independent samples')\n",
    "else:\n",
    "    print('Dependent Samples')\n"
   ]
  },
  {
   "cell_type": "code",
   "execution_count": 22,
   "id": "9dfb6835",
   "metadata": {},
   "outputs": [
    {
     "name": "stdout",
     "output_type": "stream",
     "text": [
      "Statistic : 0.85, p-value: 0.000000003654950287505688486911 \n",
      "Dependent samples\n"
     ]
    }
   ],
   "source": [
    "#pearson correlation\n",
    "from scipy.stats import pearsonr\n",
    "\n",
    "stat, p = pearsonr(FirstSample, SecondSample)\n",
    "\n",
    "print('Statistic : %.2f, p-value: %.30f ' %(stat, p))\n",
    "\n",
    "if p > 0.05:\n",
    "    print('Independent samples')\n",
    "else:\n",
    "    print('Dependent samples')"
   ]
  },
  {
   "cell_type": "code",
   "execution_count": null,
   "id": "ebba1b1e",
   "metadata": {},
   "outputs": [],
   "source": []
  },
  {
   "cell_type": "code",
   "execution_count": null,
   "id": "e31e6386",
   "metadata": {},
   "outputs": [],
   "source": []
  }
 ],
 "metadata": {
  "kernelspec": {
   "display_name": "Python 3 (ipykernel)",
   "language": "python",
   "name": "python3"
  },
  "language_info": {
   "codemirror_mode": {
    "name": "ipython",
    "version": 3
   },
   "file_extension": ".py",
   "mimetype": "text/x-python",
   "name": "python",
   "nbconvert_exporter": "python",
   "pygments_lexer": "ipython3",
   "version": "3.10.7"
  }
 },
 "nbformat": 4,
 "nbformat_minor": 5
}
